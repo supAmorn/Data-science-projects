{
 "cells": [
  {
   "cell_type": "code",
   "execution_count": 1,
   "metadata": {},
   "outputs": [],
   "source": [
    "import pandas as pd\n",
    "import numpy as np"
   ]
  },
  {
   "cell_type": "code",
   "execution_count": 3,
   "metadata": {},
   "outputs": [],
   "source": [
    "users = pd.read_csv('/Users/both/Downloads/users.csv')\n",
    "google_users = pd.read_csv('/Users/both/Downloads/google_users.csv')"
   ]
  },
  {
   "cell_type": "code",
   "execution_count": 4,
   "metadata": {},
   "outputs": [
    {
     "data": {
      "text/html": [
       "<div>\n",
       "<style scoped>\n",
       "    .dataframe tbody tr th:only-of-type {\n",
       "        vertical-align: middle;\n",
       "    }\n",
       "\n",
       "    .dataframe tbody tr th {\n",
       "        vertical-align: top;\n",
       "    }\n",
       "\n",
       "    .dataframe thead th {\n",
       "        text-align: right;\n",
       "    }\n",
       "</style>\n",
       "<table border=\"1\" class=\"dataframe\">\n",
       "  <thead>\n",
       "    <tr style=\"text-align: right;\">\n",
       "      <th></th>\n",
       "      <th>user_id</th>\n",
       "      <th>is_activated</th>\n",
       "      <th>signed_up_on</th>\n",
       "      <th>last_login</th>\n",
       "      <th>sign_up_source</th>\n",
       "      <th>unsubscribed</th>\n",
       "      <th>user_type</th>\n",
       "    </tr>\n",
       "  </thead>\n",
       "  <tbody>\n",
       "    <tr>\n",
       "      <th>0</th>\n",
       "      <td>48063</td>\n",
       "      <td>True</td>\n",
       "      <td>13/06/2019 23:37</td>\n",
       "      <td>13/06/2019 23:39</td>\n",
       "      <td>NaN</td>\n",
       "      <td>0</td>\n",
       "      <td>1</td>\n",
       "    </tr>\n",
       "    <tr>\n",
       "      <th>1</th>\n",
       "      <td>50616</td>\n",
       "      <td>True</td>\n",
       "      <td>5/07/2019 10:14</td>\n",
       "      <td>5/07/2019 10:14</td>\n",
       "      <td>google</td>\n",
       "      <td>0</td>\n",
       "      <td>1</td>\n",
       "    </tr>\n",
       "    <tr>\n",
       "      <th>2</th>\n",
       "      <td>46065</td>\n",
       "      <td>True</td>\n",
       "      <td>4/06/2019 7:26</td>\n",
       "      <td>4/06/2019 7:26</td>\n",
       "      <td>google</td>\n",
       "      <td>0</td>\n",
       "      <td>1</td>\n",
       "    </tr>\n",
       "    <tr>\n",
       "      <th>3</th>\n",
       "      <td>52503</td>\n",
       "      <td>True</td>\n",
       "      <td>7/07/2019 0:29</td>\n",
       "      <td>7/07/2019 2:53</td>\n",
       "      <td>NaN</td>\n",
       "      <td>0</td>\n",
       "      <td>1</td>\n",
       "    </tr>\n",
       "    <tr>\n",
       "      <th>4</th>\n",
       "      <td>55278</td>\n",
       "      <td>True</td>\n",
       "      <td>7/07/2019 7:22</td>\n",
       "      <td>7/07/2019 7:27</td>\n",
       "      <td>NaN</td>\n",
       "      <td>0</td>\n",
       "      <td>1</td>\n",
       "    </tr>\n",
       "  </tbody>\n",
       "</table>\n",
       "</div>"
      ],
      "text/plain": [
       "   user_id  is_activated      signed_up_on        last_login sign_up_source  \\\n",
       "0    48063          True  13/06/2019 23:37  13/06/2019 23:39            NaN   \n",
       "1    50616          True   5/07/2019 10:14   5/07/2019 10:14         google   \n",
       "2    46065          True    4/06/2019 7:26    4/06/2019 7:26         google   \n",
       "3    52503          True    7/07/2019 0:29    7/07/2019 2:53            NaN   \n",
       "4    55278          True    7/07/2019 7:22    7/07/2019 7:27            NaN   \n",
       "\n",
       "   unsubscribed  user_type  \n",
       "0             0          1  \n",
       "1             0          1  \n",
       "2             0          1  \n",
       "3             0          1  \n",
       "4             0          1  "
      ]
     },
     "execution_count": 4,
     "metadata": {},
     "output_type": "execute_result"
    }
   ],
   "source": [
    "users.head(5)"
   ]
  },
  {
   "cell_type": "code",
   "execution_count": 5,
   "metadata": {},
   "outputs": [
    {
     "data": {
      "text/html": [
       "<div>\n",
       "<style scoped>\n",
       "    .dataframe tbody tr th:only-of-type {\n",
       "        vertical-align: middle;\n",
       "    }\n",
       "\n",
       "    .dataframe tbody tr th {\n",
       "        vertical-align: top;\n",
       "    }\n",
       "\n",
       "    .dataframe thead th {\n",
       "        text-align: right;\n",
       "    }\n",
       "</style>\n",
       "<table border=\"1\" class=\"dataframe\">\n",
       "  <thead>\n",
       "    <tr style=\"text-align: right;\">\n",
       "      <th></th>\n",
       "      <th>id</th>\n",
       "      <th>Unnamed: 1</th>\n",
       "      <th>user_id</th>\n",
       "      <th>browser_ language_code</th>\n",
       "      <th>created_on</th>\n",
       "      <th>device_cat</th>\n",
       "    </tr>\n",
       "  </thead>\n",
       "  <tbody>\n",
       "    <tr>\n",
       "      <th>0</th>\n",
       "      <td>7659</td>\n",
       "      <td>NaN</td>\n",
       "      <td>41625</td>\n",
       "      <td>en</td>\n",
       "      <td>7/5/2019 12:58</td>\n",
       "      <td>Tablet</td>\n",
       "    </tr>\n",
       "    <tr>\n",
       "      <th>1</th>\n",
       "      <td>7770</td>\n",
       "      <td>NaN</td>\n",
       "      <td>41736</td>\n",
       "      <td>en-GB</td>\n",
       "      <td>12/5/2019 16:42</td>\n",
       "      <td>Desktop</td>\n",
       "    </tr>\n",
       "    <tr>\n",
       "      <th>2</th>\n",
       "      <td>7881</td>\n",
       "      <td>NaN</td>\n",
       "      <td>41958</td>\n",
       "      <td>en</td>\n",
       "      <td>13/5/2019 15:26</td>\n",
       "      <td>Desktop</td>\n",
       "    </tr>\n",
       "    <tr>\n",
       "      <th>3</th>\n",
       "      <td>7992</td>\n",
       "      <td>NaN</td>\n",
       "      <td>42513</td>\n",
       "      <td>en</td>\n",
       "      <td>23/5/2019 15:15</td>\n",
       "      <td>Mobile</td>\n",
       "    </tr>\n",
       "    <tr>\n",
       "      <th>4</th>\n",
       "      <td>8103</td>\n",
       "      <td>NaN</td>\n",
       "      <td>42624</td>\n",
       "      <td>en</td>\n",
       "      <td>25/5/2019 03:31</td>\n",
       "      <td>Desktop</td>\n",
       "    </tr>\n",
       "  </tbody>\n",
       "</table>\n",
       "</div>"
      ],
      "text/plain": [
       "     id  Unnamed: 1  user_id browser_ language_code       created_on  \\\n",
       "0  7659         NaN    41625                     en   7/5/2019 12:58   \n",
       "1  7770         NaN    41736                  en-GB  12/5/2019 16:42   \n",
       "2  7881         NaN    41958                     en  13/5/2019 15:26   \n",
       "3  7992         NaN    42513                     en  23/5/2019 15:15   \n",
       "4  8103         NaN    42624                     en  25/5/2019 03:31   \n",
       "\n",
       "  device_cat  \n",
       "0     Tablet  \n",
       "1    Desktop  \n",
       "2    Desktop  \n",
       "3     Mobile  \n",
       "4    Desktop  "
      ]
     },
     "execution_count": 5,
     "metadata": {},
     "output_type": "execute_result"
    }
   ],
   "source": [
    "google_users.head(5)"
   ]
  },
  {
   "attachments": {},
   "cell_type": "markdown",
   "metadata": {},
   "source": [
    "Check overall describe summary etc"
   ]
  },
  {
   "cell_type": "code",
   "execution_count": 6,
   "metadata": {},
   "outputs": [
    {
     "name": "stdout",
     "output_type": "stream",
     "text": [
      "<class 'pandas.core.frame.DataFrame'>\n",
      "RangeIndex: 503 entries, 0 to 502\n",
      "Data columns (total 7 columns):\n",
      " #   Column          Non-Null Count  Dtype \n",
      "---  ------          --------------  ----- \n",
      " 0   user_id         503 non-null    int64 \n",
      " 1   is_activated    503 non-null    bool  \n",
      " 2   signed_up_on    503 non-null    object\n",
      " 3   last_login      501 non-null    object\n",
      " 4   sign_up_source  204 non-null    object\n",
      " 5   unsubscribed    503 non-null    int64 \n",
      " 6   user_type       503 non-null    int64 \n",
      "dtypes: bool(1), int64(3), object(3)\n",
      "memory usage: 24.2+ KB\n"
     ]
    }
   ],
   "source": [
    "users.info()"
   ]
  },
  {
   "cell_type": "code",
   "execution_count": 7,
   "metadata": {},
   "outputs": [
    {
     "name": "stdout",
     "output_type": "stream",
     "text": [
      "<class 'pandas.core.frame.DataFrame'>\n",
      "RangeIndex: 206 entries, 0 to 205\n",
      "Data columns (total 6 columns):\n",
      " #   Column                  Non-Null Count  Dtype  \n",
      "---  ------                  --------------  -----  \n",
      " 0   id                      206 non-null    int64  \n",
      " 1   Unnamed: 1              0 non-null      float64\n",
      " 2   user_id                 206 non-null    int64  \n",
      " 3   browser_ language_code  206 non-null    object \n",
      " 4   created_on              206 non-null    object \n",
      " 5   device_cat              206 non-null    object \n",
      "dtypes: float64(1), int64(2), object(3)\n",
      "memory usage: 9.8+ KB\n"
     ]
    }
   ],
   "source": [
    "google_users.info()"
   ]
  },
  {
   "cell_type": "code",
   "execution_count": 8,
   "metadata": {},
   "outputs": [
    {
     "data": {
      "text/html": [
       "<div>\n",
       "<style scoped>\n",
       "    .dataframe tbody tr th:only-of-type {\n",
       "        vertical-align: middle;\n",
       "    }\n",
       "\n",
       "    .dataframe tbody tr th {\n",
       "        vertical-align: top;\n",
       "    }\n",
       "\n",
       "    .dataframe thead th {\n",
       "        text-align: right;\n",
       "    }\n",
       "</style>\n",
       "<table border=\"1\" class=\"dataframe\">\n",
       "  <thead>\n",
       "    <tr style=\"text-align: right;\">\n",
       "      <th></th>\n",
       "      <th>user_id</th>\n",
       "      <th>unsubscribed</th>\n",
       "      <th>user_type</th>\n",
       "    </tr>\n",
       "  </thead>\n",
       "  <tbody>\n",
       "    <tr>\n",
       "      <th>count</th>\n",
       "      <td>503.000000</td>\n",
       "      <td>503.000000</td>\n",
       "      <td>503.000000</td>\n",
       "    </tr>\n",
       "    <tr>\n",
       "      <th>mean</th>\n",
       "      <td>72705.000000</td>\n",
       "      <td>0.035785</td>\n",
       "      <td>0.940358</td>\n",
       "    </tr>\n",
       "    <tr>\n",
       "      <th>std</th>\n",
       "      <td>16133.612305</td>\n",
       "      <td>0.185939</td>\n",
       "      <td>0.237058</td>\n",
       "    </tr>\n",
       "    <tr>\n",
       "      <th>min</th>\n",
       "      <td>44844.000000</td>\n",
       "      <td>0.000000</td>\n",
       "      <td>0.000000</td>\n",
       "    </tr>\n",
       "    <tr>\n",
       "      <th>25%</th>\n",
       "      <td>58774.500000</td>\n",
       "      <td>0.000000</td>\n",
       "      <td>1.000000</td>\n",
       "    </tr>\n",
       "    <tr>\n",
       "      <th>50%</th>\n",
       "      <td>72705.000000</td>\n",
       "      <td>0.000000</td>\n",
       "      <td>1.000000</td>\n",
       "    </tr>\n",
       "    <tr>\n",
       "      <th>75%</th>\n",
       "      <td>86635.500000</td>\n",
       "      <td>0.000000</td>\n",
       "      <td>1.000000</td>\n",
       "    </tr>\n",
       "    <tr>\n",
       "      <th>max</th>\n",
       "      <td>100566.000000</td>\n",
       "      <td>1.000000</td>\n",
       "      <td>1.000000</td>\n",
       "    </tr>\n",
       "  </tbody>\n",
       "</table>\n",
       "</div>"
      ],
      "text/plain": [
       "             user_id  unsubscribed   user_type\n",
       "count     503.000000    503.000000  503.000000\n",
       "mean    72705.000000      0.035785    0.940358\n",
       "std     16133.612305      0.185939    0.237058\n",
       "min     44844.000000      0.000000    0.000000\n",
       "25%     58774.500000      0.000000    1.000000\n",
       "50%     72705.000000      0.000000    1.000000\n",
       "75%     86635.500000      0.000000    1.000000\n",
       "max    100566.000000      1.000000    1.000000"
      ]
     },
     "execution_count": 8,
     "metadata": {},
     "output_type": "execute_result"
    }
   ],
   "source": [
    "users.describe()"
   ]
  },
  {
   "cell_type": "code",
   "execution_count": 9,
   "metadata": {},
   "outputs": [
    {
     "data": {
      "text/html": [
       "<div>\n",
       "<style scoped>\n",
       "    .dataframe tbody tr th:only-of-type {\n",
       "        vertical-align: middle;\n",
       "    }\n",
       "\n",
       "    .dataframe tbody tr th {\n",
       "        vertical-align: top;\n",
       "    }\n",
       "\n",
       "    .dataframe thead th {\n",
       "        text-align: right;\n",
       "    }\n",
       "</style>\n",
       "<table border=\"1\" class=\"dataframe\">\n",
       "  <thead>\n",
       "    <tr style=\"text-align: right;\">\n",
       "      <th></th>\n",
       "      <th>id</th>\n",
       "      <th>Unnamed: 1</th>\n",
       "      <th>user_id</th>\n",
       "    </tr>\n",
       "  </thead>\n",
       "  <tbody>\n",
       "    <tr>\n",
       "      <th>count</th>\n",
       "      <td>206.000000</td>\n",
       "      <td>0.0</td>\n",
       "      <td>206.000000</td>\n",
       "    </tr>\n",
       "    <tr>\n",
       "      <th>mean</th>\n",
       "      <td>19036.500000</td>\n",
       "      <td>NaN</td>\n",
       "      <td>74859.800971</td>\n",
       "    </tr>\n",
       "    <tr>\n",
       "      <th>std</th>\n",
       "      <td>6616.847701</td>\n",
       "      <td>NaN</td>\n",
       "      <td>19269.168208</td>\n",
       "    </tr>\n",
       "    <tr>\n",
       "      <th>min</th>\n",
       "      <td>7659.000000</td>\n",
       "      <td>NaN</td>\n",
       "      <td>34299.000000</td>\n",
       "    </tr>\n",
       "    <tr>\n",
       "      <th>25%</th>\n",
       "      <td>13347.750000</td>\n",
       "      <td>NaN</td>\n",
       "      <td>58996.500000</td>\n",
       "    </tr>\n",
       "    <tr>\n",
       "      <th>50%</th>\n",
       "      <td>19036.500000</td>\n",
       "      <td>NaN</td>\n",
       "      <td>73704.000000</td>\n",
       "    </tr>\n",
       "    <tr>\n",
       "      <th>75%</th>\n",
       "      <td>24725.250000</td>\n",
       "      <td>NaN</td>\n",
       "      <td>90714.750000</td>\n",
       "    </tr>\n",
       "    <tr>\n",
       "      <th>max</th>\n",
       "      <td>30414.000000</td>\n",
       "      <td>NaN</td>\n",
       "      <td>107226.000000</td>\n",
       "    </tr>\n",
       "  </tbody>\n",
       "</table>\n",
       "</div>"
      ],
      "text/plain": [
       "                 id  Unnamed: 1        user_id\n",
       "count    206.000000         0.0     206.000000\n",
       "mean   19036.500000         NaN   74859.800971\n",
       "std     6616.847701         NaN   19269.168208\n",
       "min     7659.000000         NaN   34299.000000\n",
       "25%    13347.750000         NaN   58996.500000\n",
       "50%    19036.500000         NaN   73704.000000\n",
       "75%    24725.250000         NaN   90714.750000\n",
       "max    30414.000000         NaN  107226.000000"
      ]
     },
     "execution_count": 9,
     "metadata": {},
     "output_type": "execute_result"
    }
   ],
   "source": [
    "google_users.describe()"
   ]
  },
  {
   "attachments": {},
   "cell_type": "markdown",
   "metadata": {},
   "source": [
    "Check Shape of users and google users before drop na"
   ]
  },
  {
   "cell_type": "code",
   "execution_count": 10,
   "metadata": {},
   "outputs": [
    {
     "data": {
      "text/plain": [
       "(503, 7)"
      ]
     },
     "execution_count": 10,
     "metadata": {},
     "output_type": "execute_result"
    }
   ],
   "source": [
    "users.shape"
   ]
  },
  {
   "cell_type": "code",
   "execution_count": 11,
   "metadata": {},
   "outputs": [
    {
     "data": {
      "text/plain": [
       "(206, 6)"
      ]
     },
     "execution_count": 11,
     "metadata": {},
     "output_type": "execute_result"
    }
   ],
   "source": [
    "google_users.shape"
   ]
  },
  {
   "attachments": {},
   "cell_type": "markdown",
   "metadata": {},
   "source": [
    "Drop na both df on axis  = 0 (row) and inplace = True"
   ]
  },
  {
   "cell_type": "code",
   "execution_count": 12,
   "metadata": {},
   "outputs": [],
   "source": [
    "#users.dropna(axis=0,inplace=True)"
   ]
  },
  {
   "cell_type": "code",
   "execution_count": 13,
   "metadata": {},
   "outputs": [],
   "source": [
    "values = {\"sign_up_source\":\"other\"}\n",
    "users.fillna(value=values, inplace=True) # Fill na with other to contain users information"
   ]
  },
  {
   "cell_type": "code",
   "execution_count": 14,
   "metadata": {},
   "outputs": [],
   "source": [
    "google_users.dropna(axis=1,inplace=True)"
   ]
  },
  {
   "attachments": {},
   "cell_type": "markdown",
   "metadata": {},
   "source": [
    "Check shape after drop na"
   ]
  },
  {
   "cell_type": "code",
   "execution_count": 15,
   "metadata": {},
   "outputs": [
    {
     "data": {
      "text/plain": [
       "(503, 7)"
      ]
     },
     "execution_count": 15,
     "metadata": {},
     "output_type": "execute_result"
    }
   ],
   "source": [
    "users.shape"
   ]
  },
  {
   "cell_type": "code",
   "execution_count": 16,
   "metadata": {},
   "outputs": [
    {
     "data": {
      "text/plain": [
       "(206, 5)"
      ]
     },
     "execution_count": 16,
     "metadata": {},
     "output_type": "execute_result"
    }
   ],
   "source": [
    "google_users.shape"
   ]
  },
  {
   "attachments": {},
   "cell_type": "markdown",
   "metadata": {},
   "source": [
    "Count User unsubscribe groupby sign up source"
   ]
  },
  {
   "cell_type": "code",
   "execution_count": 17,
   "metadata": {},
   "outputs": [
    {
     "data": {
      "text/plain": [
       "sign_up_source\n",
       "google      166\n",
       "linkedin     38\n",
       "other       299\n",
       "Name: unsubscribed, dtype: int64"
      ]
     },
     "execution_count": 17,
     "metadata": {},
     "output_type": "execute_result"
    }
   ],
   "source": [
    "users.groupby(['sign_up_source'])['unsubscribed'].count()"
   ]
  },
  {
   "attachments": {},
   "cell_type": "markdown",
   "metadata": {},
   "source": [
    "Count langaue google users"
   ]
  },
  {
   "cell_type": "code",
   "execution_count": 18,
   "metadata": {},
   "outputs": [
    {
     "data": {
      "text/plain": [
       "en        149\n",
       "en-GB      39\n",
       "fr          5\n",
       "zh-CN       4\n",
       "ko          3\n",
       "vi          1\n",
       "ru          1\n",
       "en-US       1\n",
       "es-419      1\n",
       "pt-BR       1\n",
       "el          1\n",
       "Name: browser_ language_code, dtype: int64"
      ]
     },
     "execution_count": 18,
     "metadata": {},
     "output_type": "execute_result"
    }
   ],
   "source": [
    "#google_users.groupby(['browser_ language_code'])['browser_ language_code'].count()\n",
    "google_users['browser_ language_code'].value_counts()"
   ]
  },
  {
   "attachments": {},
   "cell_type": "markdown",
   "metadata": {},
   "source": [
    "Join table between users and google users"
   ]
  },
  {
   "cell_type": "code",
   "execution_count": 19,
   "metadata": {},
   "outputs": [
    {
     "data": {
      "text/html": [
       "<div>\n",
       "<style scoped>\n",
       "    .dataframe tbody tr th:only-of-type {\n",
       "        vertical-align: middle;\n",
       "    }\n",
       "\n",
       "    .dataframe tbody tr th {\n",
       "        vertical-align: top;\n",
       "    }\n",
       "\n",
       "    .dataframe thead th {\n",
       "        text-align: right;\n",
       "    }\n",
       "</style>\n",
       "<table border=\"1\" class=\"dataframe\">\n",
       "  <thead>\n",
       "    <tr style=\"text-align: right;\">\n",
       "      <th></th>\n",
       "      <th>id</th>\n",
       "      <th>user_id</th>\n",
       "      <th>browser_ language_code</th>\n",
       "      <th>created_on</th>\n",
       "      <th>device_cat</th>\n",
       "      <th>is_activated</th>\n",
       "      <th>signed_up_on</th>\n",
       "      <th>last_login</th>\n",
       "      <th>sign_up_source</th>\n",
       "      <th>unsubscribed</th>\n",
       "      <th>user_type</th>\n",
       "    </tr>\n",
       "  </thead>\n",
       "  <tbody>\n",
       "    <tr>\n",
       "      <th>0</th>\n",
       "      <td>8436</td>\n",
       "      <td>45732</td>\n",
       "      <td>en</td>\n",
       "      <td>3/6/2019 08:29</td>\n",
       "      <td>Desktop</td>\n",
       "      <td>True</td>\n",
       "      <td>3/06/2019 8:29</td>\n",
       "      <td>3/06/2019 8:29</td>\n",
       "      <td>google</td>\n",
       "      <td>0</td>\n",
       "      <td>1</td>\n",
       "    </tr>\n",
       "    <tr>\n",
       "      <th>1</th>\n",
       "      <td>8658</td>\n",
       "      <td>46065</td>\n",
       "      <td>en-GB</td>\n",
       "      <td>4/6/2019 07:26</td>\n",
       "      <td>Desktop</td>\n",
       "      <td>True</td>\n",
       "      <td>4/06/2019 7:26</td>\n",
       "      <td>4/06/2019 7:26</td>\n",
       "      <td>google</td>\n",
       "      <td>0</td>\n",
       "      <td>1</td>\n",
       "    </tr>\n",
       "    <tr>\n",
       "      <th>2</th>\n",
       "      <td>8769</td>\n",
       "      <td>46176</td>\n",
       "      <td>en</td>\n",
       "      <td>4/6/2019 10:13</td>\n",
       "      <td>Desktop</td>\n",
       "      <td>True</td>\n",
       "      <td>4/06/2019 10:13</td>\n",
       "      <td>4/06/2019 10:13</td>\n",
       "      <td>google</td>\n",
       "      <td>0</td>\n",
       "      <td>1</td>\n",
       "    </tr>\n",
       "  </tbody>\n",
       "</table>\n",
       "</div>"
      ],
      "text/plain": [
       "     id  user_id browser_ language_code      created_on device_cat  \\\n",
       "0  8436    45732                     en  3/6/2019 08:29    Desktop   \n",
       "1  8658    46065                  en-GB  4/6/2019 07:26    Desktop   \n",
       "2  8769    46176                     en  4/6/2019 10:13    Desktop   \n",
       "\n",
       "   is_activated     signed_up_on       last_login sign_up_source  \\\n",
       "0          True   3/06/2019 8:29   3/06/2019 8:29         google   \n",
       "1          True   4/06/2019 7:26   4/06/2019 7:26         google   \n",
       "2          True  4/06/2019 10:13  4/06/2019 10:13         google   \n",
       "\n",
       "   unsubscribed  user_type  \n",
       "0             0          1  \n",
       "1             0          1  \n",
       "2             0          1  "
      ]
     },
     "execution_count": 19,
     "metadata": {},
     "output_type": "execute_result"
    }
   ],
   "source": [
    "google_view_users = pd.merge(google_users, users, on=['user_id', 'user_id'])\n",
    "google_view_users.head(3)"
   ]
  },
  {
   "attachments": {},
   "cell_type": "markdown",
   "metadata": {},
   "source": [
    "Date time handle"
   ]
  },
  {
   "cell_type": "code",
   "execution_count": 20,
   "metadata": {},
   "outputs": [],
   "source": [
    "users['signed_up_datetime'] = pd.to_datetime(users['signed_up_on'],format=\"%d/%m/%Y %H:%M\",utc = True)\n",
    "users['last_login_datetime'] = pd.to_datetime(users['last_login'],format=\"%d/%m/%Y %H:%M\",utc = True)"
   ]
  },
  {
   "cell_type": "code",
   "execution_count": 21,
   "metadata": {},
   "outputs": [
    {
     "name": "stdout",
     "output_type": "stream",
     "text": [
      "<class 'pandas.core.frame.DataFrame'>\n",
      "RangeIndex: 503 entries, 0 to 502\n",
      "Data columns (total 9 columns):\n",
      " #   Column               Non-Null Count  Dtype              \n",
      "---  ------               --------------  -----              \n",
      " 0   user_id              503 non-null    int64              \n",
      " 1   is_activated         503 non-null    bool               \n",
      " 2   signed_up_on         503 non-null    object             \n",
      " 3   last_login           501 non-null    object             \n",
      " 4   sign_up_source       503 non-null    object             \n",
      " 5   unsubscribed         503 non-null    int64              \n",
      " 6   user_type            503 non-null    int64              \n",
      " 7   signed_up_datetime   503 non-null    datetime64[ns, UTC]\n",
      " 8   last_login_datetime  501 non-null    datetime64[ns, UTC]\n",
      "dtypes: bool(1), datetime64[ns, UTC](2), int64(3), object(3)\n",
      "memory usage: 32.1+ KB\n"
     ]
    }
   ],
   "source": [
    "users.info()"
   ]
  },
  {
   "cell_type": "code",
   "execution_count": 22,
   "metadata": {},
   "outputs": [
    {
     "data": {
      "text/html": [
       "<div>\n",
       "<style scoped>\n",
       "    .dataframe tbody tr th:only-of-type {\n",
       "        vertical-align: middle;\n",
       "    }\n",
       "\n",
       "    .dataframe tbody tr th {\n",
       "        vertical-align: top;\n",
       "    }\n",
       "\n",
       "    .dataframe thead th {\n",
       "        text-align: right;\n",
       "    }\n",
       "</style>\n",
       "<table border=\"1\" class=\"dataframe\">\n",
       "  <thead>\n",
       "    <tr style=\"text-align: right;\">\n",
       "      <th></th>\n",
       "      <th>last_login_datetime</th>\n",
       "      <th>last_login</th>\n",
       "    </tr>\n",
       "  </thead>\n",
       "  <tbody>\n",
       "    <tr>\n",
       "      <th>0</th>\n",
       "      <td>2019-06-13 23:39:00+00:00</td>\n",
       "      <td>13/06/2019 23:39</td>\n",
       "    </tr>\n",
       "    <tr>\n",
       "      <th>1</th>\n",
       "      <td>2019-07-05 10:14:00+00:00</td>\n",
       "      <td>5/07/2019 10:14</td>\n",
       "    </tr>\n",
       "    <tr>\n",
       "      <th>2</th>\n",
       "      <td>2019-06-04 07:26:00+00:00</td>\n",
       "      <td>4/06/2019 7:26</td>\n",
       "    </tr>\n",
       "  </tbody>\n",
       "</table>\n",
       "</div>"
      ],
      "text/plain": [
       "        last_login_datetime        last_login\n",
       "0 2019-06-13 23:39:00+00:00  13/06/2019 23:39\n",
       "1 2019-07-05 10:14:00+00:00   5/07/2019 10:14\n",
       "2 2019-06-04 07:26:00+00:00    4/06/2019 7:26"
      ]
     },
     "execution_count": 22,
     "metadata": {},
     "output_type": "execute_result"
    }
   ],
   "source": [
    "users[['last_login_datetime','last_login']].head(3)"
   ]
  },
  {
   "attachments": {},
   "cell_type": "markdown",
   "metadata": {},
   "source": [
    "Count each platform by month"
   ]
  },
  {
   "cell_type": "code",
   "execution_count": 23,
   "metadata": {},
   "outputs": [
    {
     "data": {
      "text/plain": [
       "last_login_datetime  sign_up_source\n",
       "6.0                  google             11\n",
       "                     linkedin            3\n",
       "                     other              27\n",
       "7.0                  google            155\n",
       "                     linkedin           34\n",
       "                     other             264\n",
       "8.0                  linkedin            1\n",
       "                     other               6\n",
       "Name: user_id, dtype: int64"
      ]
     },
     "execution_count": 23,
     "metadata": {},
     "output_type": "execute_result"
    }
   ],
   "source": [
    "users.groupby([users.last_login_datetime.dt.month,'sign_up_source'])['user_id'].count()"
   ]
  },
  {
   "attachments": {},
   "cell_type": "markdown",
   "metadata": {},
   "source": [
    "Change timezone"
   ]
  },
  {
   "cell_type": "code",
   "execution_count": 24,
   "metadata": {},
   "outputs": [],
   "source": [
    "users['last_login_datetime_local'] = users['last_login_datetime'].dt.tz_convert('australia/melbourne')"
   ]
  },
  {
   "cell_type": "code",
   "execution_count": 25,
   "metadata": {},
   "outputs": [
    {
     "data": {
      "text/html": [
       "<div>\n",
       "<style scoped>\n",
       "    .dataframe tbody tr th:only-of-type {\n",
       "        vertical-align: middle;\n",
       "    }\n",
       "\n",
       "    .dataframe tbody tr th {\n",
       "        vertical-align: top;\n",
       "    }\n",
       "\n",
       "    .dataframe thead th {\n",
       "        text-align: right;\n",
       "    }\n",
       "</style>\n",
       "<table border=\"1\" class=\"dataframe\">\n",
       "  <thead>\n",
       "    <tr style=\"text-align: right;\">\n",
       "      <th></th>\n",
       "      <th>last_login_datetime</th>\n",
       "      <th>last_login_datetime_local</th>\n",
       "    </tr>\n",
       "  </thead>\n",
       "  <tbody>\n",
       "    <tr>\n",
       "      <th>0</th>\n",
       "      <td>2019-06-13 23:39:00+00:00</td>\n",
       "      <td>2019-06-14 09:39:00+10:00</td>\n",
       "    </tr>\n",
       "    <tr>\n",
       "      <th>1</th>\n",
       "      <td>2019-07-05 10:14:00+00:00</td>\n",
       "      <td>2019-07-05 20:14:00+10:00</td>\n",
       "    </tr>\n",
       "    <tr>\n",
       "      <th>2</th>\n",
       "      <td>2019-06-04 07:26:00+00:00</td>\n",
       "      <td>2019-06-04 17:26:00+10:00</td>\n",
       "    </tr>\n",
       "  </tbody>\n",
       "</table>\n",
       "</div>"
      ],
      "text/plain": [
       "        last_login_datetime last_login_datetime_local\n",
       "0 2019-06-13 23:39:00+00:00 2019-06-14 09:39:00+10:00\n",
       "1 2019-07-05 10:14:00+00:00 2019-07-05 20:14:00+10:00\n",
       "2 2019-06-04 07:26:00+00:00 2019-06-04 17:26:00+10:00"
      ]
     },
     "execution_count": 25,
     "metadata": {},
     "output_type": "execute_result"
    }
   ],
   "source": [
    "users[['last_login_datetime','last_login_datetime_local']].head(3)"
   ]
  },
  {
   "cell_type": "markdown",
   "metadata": {},
   "source": [
    "Count by source local time"
   ]
  },
  {
   "cell_type": "code",
   "execution_count": 28,
   "metadata": {},
   "outputs": [],
   "source": [
    "count_month_source = users.groupby([users.last_login_datetime_local.dt.month,'sign_up_source'])['user_id'].count()\n",
    "count_month_source = count_month_source.reset_index()"
   ]
  },
  {
   "cell_type": "code",
   "execution_count": 29,
   "metadata": {},
   "outputs": [
    {
     "data": {
      "text/html": [
       "<div>\n",
       "<style scoped>\n",
       "    .dataframe tbody tr th:only-of-type {\n",
       "        vertical-align: middle;\n",
       "    }\n",
       "\n",
       "    .dataframe tbody tr th {\n",
       "        vertical-align: top;\n",
       "    }\n",
       "\n",
       "    .dataframe thead th {\n",
       "        text-align: right;\n",
       "    }\n",
       "</style>\n",
       "<table border=\"1\" class=\"dataframe\">\n",
       "  <thead>\n",
       "    <tr style=\"text-align: right;\">\n",
       "      <th></th>\n",
       "      <th>last_login_datetime_local</th>\n",
       "      <th>sign_up_source</th>\n",
       "      <th>user_id</th>\n",
       "    </tr>\n",
       "  </thead>\n",
       "  <tbody>\n",
       "    <tr>\n",
       "      <th>0</th>\n",
       "      <td>6.0</td>\n",
       "      <td>google</td>\n",
       "      <td>11</td>\n",
       "    </tr>\n",
       "    <tr>\n",
       "      <th>1</th>\n",
       "      <td>6.0</td>\n",
       "      <td>linkedin</td>\n",
       "      <td>3</td>\n",
       "    </tr>\n",
       "    <tr>\n",
       "      <th>2</th>\n",
       "      <td>6.0</td>\n",
       "      <td>other</td>\n",
       "      <td>27</td>\n",
       "    </tr>\n",
       "    <tr>\n",
       "      <th>3</th>\n",
       "      <td>7.0</td>\n",
       "      <td>google</td>\n",
       "      <td>153</td>\n",
       "    </tr>\n",
       "    <tr>\n",
       "      <th>4</th>\n",
       "      <td>7.0</td>\n",
       "      <td>linkedin</td>\n",
       "      <td>34</td>\n",
       "    </tr>\n",
       "    <tr>\n",
       "      <th>5</th>\n",
       "      <td>7.0</td>\n",
       "      <td>other</td>\n",
       "      <td>261</td>\n",
       "    </tr>\n",
       "    <tr>\n",
       "      <th>6</th>\n",
       "      <td>8.0</td>\n",
       "      <td>google</td>\n",
       "      <td>2</td>\n",
       "    </tr>\n",
       "    <tr>\n",
       "      <th>7</th>\n",
       "      <td>8.0</td>\n",
       "      <td>linkedin</td>\n",
       "      <td>1</td>\n",
       "    </tr>\n",
       "    <tr>\n",
       "      <th>8</th>\n",
       "      <td>8.0</td>\n",
       "      <td>other</td>\n",
       "      <td>9</td>\n",
       "    </tr>\n",
       "  </tbody>\n",
       "</table>\n",
       "</div>"
      ],
      "text/plain": [
       "   last_login_datetime_local sign_up_source  user_id\n",
       "0                        6.0         google       11\n",
       "1                        6.0       linkedin        3\n",
       "2                        6.0          other       27\n",
       "3                        7.0         google      153\n",
       "4                        7.0       linkedin       34\n",
       "5                        7.0          other      261\n",
       "6                        8.0         google        2\n",
       "7                        8.0       linkedin        1\n",
       "8                        8.0          other        9"
      ]
     },
     "execution_count": 29,
     "metadata": {},
     "output_type": "execute_result"
    }
   ],
   "source": [
    "count_month_source"
   ]
  },
  {
   "attachments": {},
   "cell_type": "markdown",
   "metadata": {},
   "source": [
    "Plot some graphs"
   ]
  },
  {
   "cell_type": "code",
   "execution_count": 27,
   "metadata": {},
   "outputs": [],
   "source": [
    "import seaborn as sns\n",
    "%matplotlib inline"
   ]
  },
  {
   "attachments": {},
   "cell_type": "markdown",
   "metadata": {},
   "source": [
    "Plot bar chart group by sign source on local time (melbourne/aus)"
   ]
  },
  {
   "cell_type": "code",
   "execution_count": 30,
   "metadata": {},
   "outputs": [
    {
     "data": {
      "text/plain": [
       "<AxesSubplot:xlabel='last_login_datetime_local', ylabel='user_id'>"
      ]
     },
     "execution_count": 30,
     "metadata": {},
     "output_type": "execute_result"
    },
    {
     "data": {
      "image/png": "[encoded data removed]",
      "text/plain": [
       "<Figure size 640x480 with 1 Axes>"
      ]
     },
     "metadata": {},
     "output_type": "display_data"
    }
   ],
   "source": [
    "sns.barplot(x=\"last_login_datetime_local\",\n",
    "           y=\"user_id\",\n",
    "           hue=\"sign_up_source\",\n",
    "           data=count_month_source)"
   ]
  },
  {
   "attachments": {},
   "cell_type": "markdown",
   "metadata": {},
   "source": [
    "Plot bar chart group by sign source on local time (UTC)"
   ]
  },
  {
   "cell_type": "code",
   "execution_count": 31,
   "metadata": {},
   "outputs": [],
   "source": [
    "count_month_source = users.groupby([users.last_login_datetime.dt.month,'sign_up_source'])['user_id'].count()\n",
    "count_month_source = count_month_source.reset_index()"
   ]
  },
  {
   "cell_type": "code",
   "execution_count": 33,
   "metadata": {},
   "outputs": [
    {
     "data": {
      "text/plain": [
       "<AxesSubplot:xlabel='last_login_datetime', ylabel='user_id'>"
      ]
     },
     "execution_count": 33,
     "metadata": {},
     "output_type": "execute_result"
    },
    {
     "data": {
      "image/png": "[encoded data removed]",
      "text/plain": [
       "<Figure size 640x480 with 1 Axes>"
      ]
     },
     "metadata": {},
     "output_type": "display_data"
    }
   ],
   "source": [
    "sns.barplot(x=\"last_login_datetime\",\n",
    "           y=\"user_id\",\n",
    "           hue=\"sign_up_source\",\n",
    "           data=count_month_source)"
   ]
  },
  {
   "attachments": {},
   "cell_type": "markdown",
   "metadata": {},
   "source": [
    "Calculate unsubscribe percentage by month"
   ]
  },
  {
   "cell_type": "code",
   "execution_count": 52,
   "metadata": {},
   "outputs": [
    {
     "data": {
      "text/html": [
       "<div>\n",
       "<style scoped>\n",
       "    .dataframe tbody tr th:only-of-type {\n",
       "        vertical-align: middle;\n",
       "    }\n",
       "\n",
       "    .dataframe tbody tr th {\n",
       "        vertical-align: top;\n",
       "    }\n",
       "\n",
       "    .dataframe thead th {\n",
       "        text-align: right;\n",
       "    }\n",
       "</style>\n",
       "<table border=\"1\" class=\"dataframe\">\n",
       "  <thead>\n",
       "    <tr style=\"text-align: right;\">\n",
       "      <th></th>\n",
       "      <th>last_login_datetime</th>\n",
       "      <th>unsubscribed</th>\n",
       "      <th>user_id</th>\n",
       "      <th>percent</th>\n",
       "    </tr>\n",
       "  </thead>\n",
       "  <tbody>\n",
       "    <tr>\n",
       "      <th>0</th>\n",
       "      <td>6.0</td>\n",
       "      <td>0</td>\n",
       "      <td>40</td>\n",
       "      <td>97.560976</td>\n",
       "    </tr>\n",
       "    <tr>\n",
       "      <th>1</th>\n",
       "      <td>6.0</td>\n",
       "      <td>1</td>\n",
       "      <td>1</td>\n",
       "      <td>2.439024</td>\n",
       "    </tr>\n",
       "    <tr>\n",
       "      <th>2</th>\n",
       "      <td>7.0</td>\n",
       "      <td>0</td>\n",
       "      <td>436</td>\n",
       "      <td>96.247241</td>\n",
       "    </tr>\n",
       "    <tr>\n",
       "      <th>3</th>\n",
       "      <td>7.0</td>\n",
       "      <td>1</td>\n",
       "      <td>17</td>\n",
       "      <td>3.752759</td>\n",
       "    </tr>\n",
       "    <tr>\n",
       "      <th>4</th>\n",
       "      <td>8.0</td>\n",
       "      <td>0</td>\n",
       "      <td>7</td>\n",
       "      <td>100.000000</td>\n",
       "    </tr>\n",
       "  </tbody>\n",
       "</table>\n",
       "</div>"
      ],
      "text/plain": [
       "   last_login_datetime  unsubscribed  user_id     percent\n",
       "0                  6.0             0       40   97.560976\n",
       "1                  6.0             1        1    2.439024\n",
       "2                  7.0             0      436   96.247241\n",
       "3                  7.0             1       17    3.752759\n",
       "4                  8.0             0        7  100.000000"
      ]
     },
     "execution_count": 52,
     "metadata": {},
     "output_type": "execute_result"
    }
   ],
   "source": [
    "count_month_source = users.groupby([users.last_login_datetime.dt.month,'unsubscribed'])['user_id'].count()\n",
    "count_month_source = count_month_source.reset_index()\n",
    "count_month_source['percent'] = count_month_source['user_id']/count_month_source.groupby('last_login_datetime')['user_id'].transform('sum')*100\n",
    "count_month_source"
   ]
  },
  {
   "cell_type": "code",
   "execution_count": 53,
   "metadata": {},
   "outputs": [
    {
     "data": {
      "text/plain": [
       "<AxesSubplot:xlabel='last_login_datetime', ylabel='percent'>"
      ]
     },
     "execution_count": 53,
     "metadata": {},
     "output_type": "execute_result"
    },
    {
     "data": {
      "image/png": "[encoded data removed]",
      "text/plain": [
       "<Figure size 640x480 with 1 Axes>"
      ]
     },
     "metadata": {},
     "output_type": "display_data"
    }
   ],
   "source": [
    "sns.barplot(x=\"last_login_datetime\",\n",
    "           y=\"percent\",\n",
    "           hue=\"unsubscribed\",\n",
    "           data=count_month_source)"
   ]
  },
  {
   "cell_type": "code",
   "execution_count": 72,
   "metadata": {},
   "outputs": [],
   "source": [
    "count_user_breakdown = users.groupby([users.last_login_datetime.dt.day,users.last_login_datetime.dt.month,users.last_login_datetime.dt.year])['user_id'].count()\n",
    "#count_user_breakdown = count_user_breakdown.reset_index()\n",
    "#count_user_breakdown.rename(columns = {'last_login_datetime':'date', 'last_login_datetime':'Month','last_login_datetime':'Year'}, inplace = True"
   ]
  },
  {
   "cell_type": "code",
   "execution_count": null,
   "metadata": {},
   "outputs": [],
   "source": []
  }
 ],
 "metadata": {
  "kernelspec": {
   "display_name": "base",
   "language": "python",
   "name": "python3"
  },
  "language_info": {
   "codemirror_mode": {
    "name": "ipython",
    "version": 3
   },
   "file_extension": ".py",
   "mimetype": "text/x-python",
   "name": "python",
   "nbconvert_exporter": "python",
   "pygments_lexer": "ipython3",
   "version": "3.8.15"
  },
  "orig_nbformat": 4,
  "vscode": {
   "interpreter": {
    "hash": "728727c8cbd4de10c5b4dc765edb7a0dc8b18e83fcb4e37b829f2ed95ca208bd"
   }
  }
 },
 "nbformat": 4,
 "nbformat_minor": 2
}
